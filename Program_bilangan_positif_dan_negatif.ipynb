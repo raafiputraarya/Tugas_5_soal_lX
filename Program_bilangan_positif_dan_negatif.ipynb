{
  "nbformat": 4,
  "nbformat_minor": 0,
  "metadata": {
    "colab": {
      "provenance": [],
      "authorship_tag": "ABX9TyP96B+aGyTcgGJj7hMpngjW",
      "include_colab_link": true
    },
    "kernelspec": {
      "name": "python3",
      "display_name": "Python 3"
    },
    "language_info": {
      "name": "python"
    }
  },
  "cells": [
    {
      "cell_type": "markdown",
      "metadata": {
        "id": "view-in-github",
        "colab_type": "text"
      },
      "source": [
        "<a href=\"https://colab.research.google.com/github/raafiputraarya/Tugas_6_soal_lX/blob/main/Program_bilangan_positif_dan_negatif.ipynb\" target=\"_parent\"><img src=\"https://colab.research.google.com/assets/colab-badge.svg\" alt=\"Open In Colab\"/></a>"
      ]
    },
    {
      "cell_type": "markdown",
      "source": [
        "**Program bilangan positif dan negatif**"
      ],
      "metadata": {
        "id": "A2QnjBj2IWhO"
      }
    },
    {
      "cell_type": "markdown",
      "source": [
        "****"
      ],
      "metadata": {
        "id": "Hrb3GgzvHfoI"
      }
    },
    {
      "cell_type": "code",
      "source": [
        "nilai_anda = int(input('Masukkan Nilai Ujian Anda Saat Ini :'))\n",
        "\n",
        "if nilai_anda >= 90:\n",
        "    print('Nilai Anda Sangat Bagus')\n",
        "\n",
        "    if nilai_anda >=100:\n",
        "        print('Kamu curang?, coba test lagi untuk membuktikan bahwa kamu jujur...')\n",
        "\n",
        "elif nilai_anda >= 70:\n",
        "    print('Nilai Kamu Sudah Melampaui KKM')\n",
        "\n",
        "else:\n",
        "    print('Nilai Kamu Jelek, Silahkan Remedial Untuk Megulang Ujian')\n",
        "\n",
        "\n"
      ],
      "metadata": {
        "colab": {
          "base_uri": "https://localhost:8080/"
        },
        "id": "7nrnRt09IUs7",
        "outputId": "0c5c619f-d2aa-497b-ef99-af3c428bf370"
      },
      "execution_count": 2,
      "outputs": [
        {
          "output_type": "stream",
          "name": "stdout",
          "text": [
            "Masukkan Nilai Ujian Anda Saat Ini :200\n",
            "Nilai Anda Sangat Bagus\n",
            "Kamu curang?, coba test lagi untuk membuktikan bahwa kamu jujur...\n"
          ]
        }
      ]
    }
  ]
}