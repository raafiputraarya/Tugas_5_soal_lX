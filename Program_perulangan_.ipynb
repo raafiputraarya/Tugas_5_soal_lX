{
  "nbformat": 4,
  "nbformat_minor": 0,
  "metadata": {
    "colab": {
      "provenance": [],
      "authorship_tag": "ABX9TyOxkNz8vtAvTA4IejihOk0j",
      "include_colab_link": true
    },
    "kernelspec": {
      "name": "python3",
      "display_name": "Python 3"
    },
    "language_info": {
      "name": "python"
    }
  },
  "cells": [
    {
      "cell_type": "markdown",
      "metadata": {
        "id": "view-in-github",
        "colab_type": "text"
      },
      "source": [
        "<a href=\"https://colab.research.google.com/github/raafiputraarya/Tugas_6_soal_lX/blob/main/Program_perulangan_.ipynb\" target=\"_parent\"><img src=\"https://colab.research.google.com/assets/colab-badge.svg\" alt=\"Open In Colab\"/></a>"
      ]
    },
    {
      "cell_type": "markdown",
      "source": [
        "**Program perulangan**"
      ],
      "metadata": {
        "id": "9aGf8KaYKyDR"
      }
    },
    {
      "cell_type": "code",
      "execution_count": null,
      "metadata": {
        "id": "1ouX_Sg1KxSM"
      },
      "outputs": [],
      "source": [
        "for i in range(1, 5):\n",
        "    print(1)\n",
        "    i += 1\n",
        "\n",
        "\n",
        "angka = 1\n",
        "while angka <= 5:\n",
        "    print('angka ke-', angka)\n",
        "    angka  += 1"
      ]
    }
  ]
}