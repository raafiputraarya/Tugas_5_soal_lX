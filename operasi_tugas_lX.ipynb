{
  "nbformat": 4,
  "nbformat_minor": 0,
  "metadata": {
    "colab": {
      "provenance": [],
      "authorship_tag": "ABX9TyPj5eIB6gFg5Xltjd+64VSD",
      "include_colab_link": true
    },
    "kernelspec": {
      "name": "python3",
      "display_name": "Python 3"
    },
    "language_info": {
      "name": "python"
    }
  },
  "cells": [
    {
      "cell_type": "markdown",
      "metadata": {
        "id": "view-in-github",
        "colab_type": "text"
      },
      "source": [
        "<a href=\"https://colab.research.google.com/github/raafiputraarya/Tugas_5_soal_lX/blob/main/operasi_tugas_lX.ipynb\" target=\"_parent\"><img src=\"https://colab.research.google.com/assets/colab-badge.svg\" alt=\"Open In Colab\"/></a>"
      ]
    },
    {
      "cell_type": "markdown",
      "source": [
        "**Program operasi aritmatika, perbandingan, logika, indentitas, dan keanggotaan**"
      ],
      "metadata": {
        "id": "t4g4aIi_7liq"
      }
    },
    {
      "cell_type": "code",
      "execution_count": 2,
      "metadata": {
        "colab": {
          "base_uri": "https://localhost:8080/"
        },
        "id": "m-APe35-3rF6",
        "outputId": "0594fc50-5824-459a-87b8-101d42217926"
      },
      "outputs": [
        {
          "output_type": "stream",
          "name": "stdout",
          "text": [
            "PROGRAM OPERASI ARITMATIKA, PERBANDINGAN, LOGIKA, INDENTITAS, DAN KEANGGOTAAN\n",
            "\n",
            "pertambahan :\n",
            "8 + 4 = 12\n",
            "<class 'int'>\n",
            "\n",
            "pengurangan  :\n",
            "8 - 4 = 4\n",
            "<class 'int'>\n",
            "\n",
            "perkalian :\n",
            "8 * 4 = 32\n",
            "<class 'int'>\n",
            "\n",
            "pembagian :\n",
            "8 / 4 = 2.0\n",
            "<class 'float'>\n",
            "\n",
            "eksponen:\n",
            "<class 'int'>\n",
            "8 // 4 = 2\n",
            "\n",
            "persentase\n",
            "8 % 4 = 0\n",
            "<class 'int'>\n",
            "\n",
            "5 < 7 : True\n",
            "\n",
            "5 > 7 : False\n",
            "\n",
            "5 >= 7 : False\n",
            "\n",
            "5 <= 7 : True\n",
            "\n",
            "5 != 7 : True\n",
            "\n",
            "10 == 10 or 10 == 10 True\n",
            "\n",
            "10 == 10 not 10 == 10 False\n",
            "\n",
            "10 == 10 and 10 == 10 True\n",
            "\n",
            "g is h : True\n",
            "\n",
            "i is not j : True\n"
          ]
        }
      ],
      "source": [
        "print('PROGRAM OPERASI ARITMATIKA, PERBANDINGAN, LOGIKA, INDENTITAS, DAN KEANGGOTAAN')\n",
        "\n",
        "a = 8\n",
        "b = 4\n",
        "\n",
        "print('\\npertambahan :')\n",
        "hasil = a + b\n",
        "print('8 + 4 =', hasil)\n",
        "print(type(hasil))\n",
        "\n",
        "print('\\npengurangan  :')\n",
        "hasil = a - b\n",
        "print('8 - 4 =', hasil)\n",
        "print(type(hasil))\n",
        "\n",
        "print('\\nperkalian :')\n",
        "hasil = a * b\n",
        "print('8 * 4 =', hasil)\n",
        "print(type(hasil))\n",
        "\n",
        "print('\\npembagian :')\n",
        "hasil = a / b\n",
        "print('8 / 4 =', hasil)\n",
        "print(type(hasil))\n",
        "\n",
        "print('\\neksponen:')\n",
        "hasil = a // b\n",
        "print(type(hasil))\n",
        "print('8 // 4 =', hasil)\n",
        "\n",
        "print('\\npersentase')\n",
        "hasil = a % b\n",
        "print('8 % 4 =', hasil)\n",
        "print(type(hasil))\n",
        "\n",
        "c = 5\n",
        "d = 7\n",
        "print('\\n5 < 7 :', c < d)\n",
        "print('\\n5 > 7 :', c > d)\n",
        "print('\\n5 >= 7 :', c >= d)\n",
        "print('\\n5 <= 7 :', c <= d)\n",
        "print('\\n5 != 7 :', c != d)\n",
        "\n",
        "\n",
        "e = 10\n",
        "f = 10\n",
        "print('\\n10 == 10 or 10 == 10',e == f or e == f) # or\n",
        "print('\\n10 == 10 not 10 == 10',not e == f) # not\n",
        "print('\\n10 == 10 and 10 == 10',e == f and e == f) # and\n",
        "\n",
        "\n",
        "\n",
        "g = 30\n",
        "h = g\n",
        "\n",
        "print('\\ng is h :', g is h)\n",
        "\n",
        "i = (1, 2, 3, 4, 5)\n",
        "j = (1, 2, 3, 4, 5)\n",
        "\n",
        "print('\\ni is not j :', i is not j)\n",
        "\n"
      ]
    }
  ]
}