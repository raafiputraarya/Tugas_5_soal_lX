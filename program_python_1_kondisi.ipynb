{
  "nbformat": 4,
  "nbformat_minor": 0,
  "metadata": {
    "colab": {
      "provenance": [],
      "authorship_tag": "ABX9TyNsyOysNImUeYhs64CyFHDS",
      "include_colab_link": true
    },
    "kernelspec": {
      "name": "python3",
      "display_name": "Python 3"
    },
    "language_info": {
      "name": "python"
    }
  },
  "cells": [
    {
      "cell_type": "markdown",
      "metadata": {
        "id": "view-in-github",
        "colab_type": "text"
      },
      "source": [
        "<a href=\"https://colab.research.google.com/github/raafiputraarya/Tugas_5_soal_lX/blob/main/program_python_1_kondisi.ipynb\" target=\"_parent\"><img src=\"https://colab.research.google.com/assets/colab-badge.svg\" alt=\"Open In Colab\"/></a>"
      ]
    },
    {
      "cell_type": "markdown",
      "source": [
        "**Program 1 kondisi**"
      ],
      "metadata": {
        "id": "H7h0wgwC-Buk"
      }
    },
    {
      "cell_type": "code",
      "source": [
        "nilai = int(input('Masukkan nilai anda:'))\n",
        "\n",
        "if nilai >= 70:\n",
        "    print('Nilai Kamu Sudah Diatas KKM')\n",
        "\n",
        "else:\n",
        "    print('Nilai Kamu Belum DIatas KKM')\n"
      ],
      "metadata": {
        "colab": {
          "base_uri": "https://localhost:8080/"
        },
        "id": "XqO55Tnn-GL6",
        "outputId": "27c25803-5d6e-46cf-b9c3-3abf590d8632"
      },
      "execution_count": 1,
      "outputs": [
        {
          "output_type": "stream",
          "name": "stdout",
          "text": [
            "Masukkan nilai anda:70\n",
            "Nilai Kamu Sudah Diatas KKM\n"
          ]
        }
      ]
    },
    {
      "cell_type": "code",
      "execution_count": null,
      "metadata": {
        "id": "CDG1r6mX94f1"
      },
      "outputs": [],
      "source": []
    }
  ]
}